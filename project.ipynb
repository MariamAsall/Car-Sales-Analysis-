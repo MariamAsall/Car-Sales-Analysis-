{
 "cells": [
  {
   "cell_type": "markdown",
   "metadata": {},
   "source": [
    "Project By : mariam asal , fares ashraf , ahmed ekramy "
   ]
  },
  {
   "cell_type": "markdown",
   "metadata": {},
   "source": [
    "#### Car Sales Analysis "
   ]
  },
  {
   "cell_type": "markdown",
   "metadata": {},
   "source": [
    "The dataset is a detailed record of car sales transactions, encompassing 23,906 entries with various attributes related to the sales process. It includes information on the cars sold, such as the model, company, engine type, transmission, and color, as well as details about the customers, including their names, genders, annual incomes, and regions. Additionally, the dataset records the specifics of each sale, including the price, date of sale, and dealership details. This data serves as a comprehensive source for analyzing car sales trends, customer demographics, and dealership performance, making it valuable for conducting in-depth analysis, data cleaning, and aggregation to derive meaningful insights."
   ]
  },
  {
   "cell_type": "markdown",
   "metadata": {},
   "source": [
    "### Import Library"
   ]
  },
  {
   "cell_type": "code",
   "execution_count": 1,
   "metadata": {},
   "outputs": [],
   "source": [
    "import pandas as pd\n",
    "import numpy as np"
   ]
  },
  {
   "cell_type": "code",
   "execution_count": 2,
   "metadata": {},
   "outputs": [],
   "source": [
    "data = pd.read_csv(r\"E:\\NTI\\Python\\project\\Car Sales.xlsx - car_data.csv\")"
   ]
  },
  {
   "cell_type": "code",
   "execution_count": 46,
   "metadata": {},
   "outputs": [
    {
     "data": {
      "text/html": [
       "<div>\n",
       "<style scoped>\n",
       "    .dataframe tbody tr th:only-of-type {\n",
       "        vertical-align: middle;\n",
       "    }\n",
       "\n",
       "    .dataframe tbody tr th {\n",
       "        vertical-align: top;\n",
       "    }\n",
       "\n",
       "    .dataframe thead th {\n",
       "        text-align: right;\n",
       "    }\n",
       "</style>\n",
       "<table border=\"1\" class=\"dataframe\">\n",
       "  <thead>\n",
       "    <tr style=\"text-align: right;\">\n",
       "      <th></th>\n",
       "      <th>Date</th>\n",
       "      <th>Customer Name</th>\n",
       "      <th>Gender</th>\n",
       "      <th>Annual Income</th>\n",
       "      <th>Company</th>\n",
       "      <th>Model</th>\n",
       "      <th>Transmission</th>\n",
       "      <th>Color</th>\n",
       "      <th>Price ($)</th>\n",
       "      <th>Dealer_No</th>\n",
       "      <th>Body Style</th>\n",
       "      <th>Dealer_Region</th>\n",
       "    </tr>\n",
       "  </thead>\n",
       "  <tbody>\n",
       "    <tr>\n",
       "      <th>0</th>\n",
       "      <td>2022-01-02</td>\n",
       "      <td>Geraldine</td>\n",
       "      <td>Male</td>\n",
       "      <td>13500</td>\n",
       "      <td>Ford</td>\n",
       "      <td>Expedition</td>\n",
       "      <td>Auto</td>\n",
       "      <td>Black</td>\n",
       "      <td>26000</td>\n",
       "      <td>06457-3834</td>\n",
       "      <td>SUV</td>\n",
       "      <td>Middletown</td>\n",
       "    </tr>\n",
       "    <tr>\n",
       "      <th>1</th>\n",
       "      <td>2022-01-02</td>\n",
       "      <td>Gia</td>\n",
       "      <td>Male</td>\n",
       "      <td>1480000</td>\n",
       "      <td>Dodge</td>\n",
       "      <td>Durango</td>\n",
       "      <td>Auto</td>\n",
       "      <td>Black</td>\n",
       "      <td>19000</td>\n",
       "      <td>60504-7114</td>\n",
       "      <td>SUV</td>\n",
       "      <td>Aurora</td>\n",
       "    </tr>\n",
       "    <tr>\n",
       "      <th>2</th>\n",
       "      <td>2022-01-02</td>\n",
       "      <td>Gianna</td>\n",
       "      <td>Male</td>\n",
       "      <td>1035000</td>\n",
       "      <td>Cadillac</td>\n",
       "      <td>Eldorado</td>\n",
       "      <td>Manual</td>\n",
       "      <td>Red</td>\n",
       "      <td>31500</td>\n",
       "      <td>38701-8047</td>\n",
       "      <td>Passenger</td>\n",
       "      <td>Greenville</td>\n",
       "    </tr>\n",
       "    <tr>\n",
       "      <th>3</th>\n",
       "      <td>2022-01-02</td>\n",
       "      <td>Giselle</td>\n",
       "      <td>Male</td>\n",
       "      <td>13500</td>\n",
       "      <td>Toyota</td>\n",
       "      <td>Celica</td>\n",
       "      <td>Manual</td>\n",
       "      <td>Pale White</td>\n",
       "      <td>14000</td>\n",
       "      <td>99301-3882</td>\n",
       "      <td>SUV</td>\n",
       "      <td>Pasco</td>\n",
       "    </tr>\n",
       "    <tr>\n",
       "      <th>4</th>\n",
       "      <td>2022-01-02</td>\n",
       "      <td>Grace</td>\n",
       "      <td>Male</td>\n",
       "      <td>1465000</td>\n",
       "      <td>Acura</td>\n",
       "      <td>TL</td>\n",
       "      <td>Auto</td>\n",
       "      <td>Red</td>\n",
       "      <td>24500</td>\n",
       "      <td>53546-9427</td>\n",
       "      <td>Hatchback</td>\n",
       "      <td>Janesville</td>\n",
       "    </tr>\n",
       "    <tr>\n",
       "      <th>...</th>\n",
       "      <td>...</td>\n",
       "      <td>...</td>\n",
       "      <td>...</td>\n",
       "      <td>...</td>\n",
       "      <td>...</td>\n",
       "      <td>...</td>\n",
       "      <td>...</td>\n",
       "      <td>...</td>\n",
       "      <td>...</td>\n",
       "      <td>...</td>\n",
       "      <td>...</td>\n",
       "      <td>...</td>\n",
       "    </tr>\n",
       "    <tr>\n",
       "      <th>23901</th>\n",
       "      <td>2023-12-31</td>\n",
       "      <td>Martin</td>\n",
       "      <td>Male</td>\n",
       "      <td>13500</td>\n",
       "      <td>Plymouth</td>\n",
       "      <td>Voyager</td>\n",
       "      <td>Manual</td>\n",
       "      <td>Red</td>\n",
       "      <td>12000</td>\n",
       "      <td>60504-7114</td>\n",
       "      <td>Passenger</td>\n",
       "      <td>Pasco</td>\n",
       "    </tr>\n",
       "    <tr>\n",
       "      <th>23902</th>\n",
       "      <td>2023-12-31</td>\n",
       "      <td>Jimmy</td>\n",
       "      <td>Female</td>\n",
       "      <td>900000</td>\n",
       "      <td>Chevrolet</td>\n",
       "      <td>Prizm</td>\n",
       "      <td>Auto</td>\n",
       "      <td>Black</td>\n",
       "      <td>16000</td>\n",
       "      <td>06457-3834</td>\n",
       "      <td>Hardtop</td>\n",
       "      <td>Middletown</td>\n",
       "    </tr>\n",
       "    <tr>\n",
       "      <th>23903</th>\n",
       "      <td>2023-12-31</td>\n",
       "      <td>Emma</td>\n",
       "      <td>Male</td>\n",
       "      <td>705000</td>\n",
       "      <td>BMW</td>\n",
       "      <td>328i</td>\n",
       "      <td>Manual</td>\n",
       "      <td>Red</td>\n",
       "      <td>21000</td>\n",
       "      <td>99301-3882</td>\n",
       "      <td>Sedan</td>\n",
       "      <td>Scottsdale</td>\n",
       "    </tr>\n",
       "    <tr>\n",
       "      <th>23904</th>\n",
       "      <td>2023-12-31</td>\n",
       "      <td>Victoire</td>\n",
       "      <td>Male</td>\n",
       "      <td>13500</td>\n",
       "      <td>Chevrolet</td>\n",
       "      <td>Metro</td>\n",
       "      <td>Auto</td>\n",
       "      <td>Black</td>\n",
       "      <td>31000</td>\n",
       "      <td>53546-9427</td>\n",
       "      <td>Passenger</td>\n",
       "      <td>Austin</td>\n",
       "    </tr>\n",
       "    <tr>\n",
       "      <th>23905</th>\n",
       "      <td>2023-12-31</td>\n",
       "      <td>Donovan</td>\n",
       "      <td>Male</td>\n",
       "      <td>1225000</td>\n",
       "      <td>Lexus</td>\n",
       "      <td>ES300</td>\n",
       "      <td>Auto</td>\n",
       "      <td>Pale White</td>\n",
       "      <td>27500</td>\n",
       "      <td>38701-8047</td>\n",
       "      <td>Hardtop</td>\n",
       "      <td>Middletown</td>\n",
       "    </tr>\n",
       "  </tbody>\n",
       "</table>\n",
       "<p>23905 rows × 12 columns</p>\n",
       "</div>"
      ],
      "text/plain": [
       "            Date Customer Name  Gender  Annual Income    Company       Model  \\\n",
       "0     2022-01-02     Geraldine    Male          13500       Ford  Expedition   \n",
       "1     2022-01-02           Gia    Male        1480000      Dodge     Durango   \n",
       "2     2022-01-02        Gianna    Male        1035000   Cadillac    Eldorado   \n",
       "3     2022-01-02       Giselle    Male          13500     Toyota      Celica   \n",
       "4     2022-01-02         Grace    Male        1465000      Acura          TL   \n",
       "...          ...           ...     ...            ...        ...         ...   \n",
       "23901 2023-12-31        Martin    Male          13500   Plymouth     Voyager   \n",
       "23902 2023-12-31         Jimmy  Female         900000  Chevrolet       Prizm   \n",
       "23903 2023-12-31          Emma    Male         705000        BMW        328i   \n",
       "23904 2023-12-31      Victoire    Male          13500  Chevrolet       Metro   \n",
       "23905 2023-12-31       Donovan    Male        1225000      Lexus       ES300   \n",
       "\n",
       "      Transmission       Color  Price ($)  Dealer_No  Body Style Dealer_Region  \n",
       "0             Auto       Black      26000  06457-3834        SUV    Middletown  \n",
       "1             Auto       Black      19000  60504-7114        SUV        Aurora  \n",
       "2           Manual         Red      31500  38701-8047  Passenger    Greenville  \n",
       "3           Manual  Pale White      14000  99301-3882        SUV         Pasco  \n",
       "4             Auto         Red      24500  53546-9427  Hatchback    Janesville  \n",
       "...            ...         ...        ...         ...        ...           ...  \n",
       "23901       Manual         Red      12000  60504-7114  Passenger         Pasco  \n",
       "23902         Auto       Black      16000  06457-3834    Hardtop    Middletown  \n",
       "23903       Manual         Red      21000  99301-3882      Sedan    Scottsdale  \n",
       "23904         Auto       Black      31000  53546-9427  Passenger        Austin  \n",
       "23905         Auto  Pale White      27500  38701-8047    Hardtop    Middletown  \n",
       "\n",
       "[23905 rows x 12 columns]"
      ]
     },
     "execution_count": 46,
     "metadata": {},
     "output_type": "execute_result"
    }
   ],
   "source": [
    "data"
   ]
  },
  {
   "cell_type": "markdown",
   "metadata": {},
   "source": [
    "### Data Explore"
   ]
  },
  {
   "cell_type": "code",
   "execution_count": 47,
   "metadata": {},
   "outputs": [
    {
     "name": "stdout",
     "output_type": "stream",
     "text": [
      "<class 'pandas.core.frame.DataFrame'>\n",
      "Index: 23905 entries, 0 to 23905\n",
      "Data columns (total 12 columns):\n",
      " #   Column         Non-Null Count  Dtype         \n",
      "---  ------         --------------  -----         \n",
      " 0   Date           23905 non-null  datetime64[ns]\n",
      " 1   Customer Name  23905 non-null  object        \n",
      " 2   Gender         23905 non-null  object        \n",
      " 3   Annual Income  23905 non-null  int64         \n",
      " 4   Company        23905 non-null  object        \n",
      " 5   Model          23905 non-null  object        \n",
      " 6   Transmission   23905 non-null  object        \n",
      " 7   Color          23905 non-null  object        \n",
      " 8   Price ($)      23905 non-null  int64         \n",
      " 9   Dealer_No      23905 non-null  object        \n",
      " 10  Body Style     23905 non-null  object        \n",
      " 11  Dealer_Region  23905 non-null  object        \n",
      "dtypes: datetime64[ns](1), int64(2), object(9)\n",
      "memory usage: 2.4+ MB\n"
     ]
    }
   ],
   "source": [
    "#Explore Data\n",
    "data.info()"
   ]
  },
  {
   "cell_type": "code",
   "execution_count": 48,
   "metadata": {},
   "outputs": [
    {
     "data": {
      "text/plain": [
       "(23905, 12)"
      ]
     },
     "execution_count": 48,
     "metadata": {},
     "output_type": "execute_result"
    }
   ],
   "source": [
    "# Number of  rows and columns\n",
    "data.shape"
   ]
  },
  {
   "cell_type": "markdown",
   "metadata": {},
   "source": [
    "### Data Cleaning & Exploration"
   ]
  },
  {
   "cell_type": "code",
   "execution_count": 49,
   "metadata": {},
   "outputs": [],
   "source": [
    "# Droping columns\n",
    "data = data.drop(['Dealer_Name'] , axis =1)\n",
    "data = data.drop(['Engine'] , axis =1)\n",
    "data = data.drop(['Dealer_No'] , axis =1)"
   ]
  },
  {
   "cell_type": "code",
   "execution_count": 33,
   "metadata": {},
   "outputs": [
    {
     "data": {
      "text/html": [
       "<div>\n",
       "<style scoped>\n",
       "    .dataframe tbody tr th:only-of-type {\n",
       "        vertical-align: middle;\n",
       "    }\n",
       "\n",
       "    .dataframe tbody tr th {\n",
       "        vertical-align: top;\n",
       "    }\n",
       "\n",
       "    .dataframe thead th {\n",
       "        text-align: right;\n",
       "    }\n",
       "</style>\n",
       "<table border=\"1\" class=\"dataframe\">\n",
       "  <thead>\n",
       "    <tr style=\"text-align: right;\">\n",
       "      <th></th>\n",
       "      <th>Date</th>\n",
       "      <th>Customer Name</th>\n",
       "      <th>Gender</th>\n",
       "      <th>Annual Income</th>\n",
       "      <th>Company</th>\n",
       "      <th>Model</th>\n",
       "      <th>Transmission</th>\n",
       "      <th>Color</th>\n",
       "      <th>Price ($)</th>\n",
       "      <th>Dealer_No</th>\n",
       "      <th>Body Style</th>\n",
       "      <th>Dealer_Region</th>\n",
       "    </tr>\n",
       "  </thead>\n",
       "  <tbody>\n",
       "    <tr>\n",
       "      <th>0</th>\n",
       "      <td>1/2/2022</td>\n",
       "      <td>Geraldine</td>\n",
       "      <td>Male</td>\n",
       "      <td>13500</td>\n",
       "      <td>Ford</td>\n",
       "      <td>Expedition</td>\n",
       "      <td>Auto</td>\n",
       "      <td>Black</td>\n",
       "      <td>26000</td>\n",
       "      <td>06457-3834</td>\n",
       "      <td>SUV</td>\n",
       "      <td>Middletown</td>\n",
       "    </tr>\n",
       "    <tr>\n",
       "      <th>1</th>\n",
       "      <td>1/2/2022</td>\n",
       "      <td>Gia</td>\n",
       "      <td>Male</td>\n",
       "      <td>1480000</td>\n",
       "      <td>Dodge</td>\n",
       "      <td>Durango</td>\n",
       "      <td>Auto</td>\n",
       "      <td>Black</td>\n",
       "      <td>19000</td>\n",
       "      <td>60504-7114</td>\n",
       "      <td>SUV</td>\n",
       "      <td>Aurora</td>\n",
       "    </tr>\n",
       "    <tr>\n",
       "      <th>2</th>\n",
       "      <td>1/2/2022</td>\n",
       "      <td>Gianna</td>\n",
       "      <td>Male</td>\n",
       "      <td>1035000</td>\n",
       "      <td>Cadillac</td>\n",
       "      <td>Eldorado</td>\n",
       "      <td>Manual</td>\n",
       "      <td>Red</td>\n",
       "      <td>31500</td>\n",
       "      <td>38701-8047</td>\n",
       "      <td>Passenger</td>\n",
       "      <td>Greenville</td>\n",
       "    </tr>\n",
       "    <tr>\n",
       "      <th>3</th>\n",
       "      <td>1/2/2022</td>\n",
       "      <td>Giselle</td>\n",
       "      <td>Male</td>\n",
       "      <td>13500</td>\n",
       "      <td>Toyota</td>\n",
       "      <td>Celica</td>\n",
       "      <td>Manual</td>\n",
       "      <td>Pale White</td>\n",
       "      <td>14000</td>\n",
       "      <td>99301-3882</td>\n",
       "      <td>SUV</td>\n",
       "      <td>Pasco</td>\n",
       "    </tr>\n",
       "    <tr>\n",
       "      <th>4</th>\n",
       "      <td>1/2/2022</td>\n",
       "      <td>Grace</td>\n",
       "      <td>Male</td>\n",
       "      <td>1465000</td>\n",
       "      <td>Acura</td>\n",
       "      <td>TL</td>\n",
       "      <td>Auto</td>\n",
       "      <td>Red</td>\n",
       "      <td>24500</td>\n",
       "      <td>53546-9427</td>\n",
       "      <td>Hatchback</td>\n",
       "      <td>Janesville</td>\n",
       "    </tr>\n",
       "    <tr>\n",
       "      <th>...</th>\n",
       "      <td>...</td>\n",
       "      <td>...</td>\n",
       "      <td>...</td>\n",
       "      <td>...</td>\n",
       "      <td>...</td>\n",
       "      <td>...</td>\n",
       "      <td>...</td>\n",
       "      <td>...</td>\n",
       "      <td>...</td>\n",
       "      <td>...</td>\n",
       "      <td>...</td>\n",
       "      <td>...</td>\n",
       "    </tr>\n",
       "    <tr>\n",
       "      <th>23901</th>\n",
       "      <td>12/31/2023</td>\n",
       "      <td>Martin</td>\n",
       "      <td>Male</td>\n",
       "      <td>13500</td>\n",
       "      <td>Plymouth</td>\n",
       "      <td>Voyager</td>\n",
       "      <td>Manual</td>\n",
       "      <td>Red</td>\n",
       "      <td>12000</td>\n",
       "      <td>60504-7114</td>\n",
       "      <td>Passenger</td>\n",
       "      <td>Pasco</td>\n",
       "    </tr>\n",
       "    <tr>\n",
       "      <th>23902</th>\n",
       "      <td>12/31/2023</td>\n",
       "      <td>Jimmy</td>\n",
       "      <td>Female</td>\n",
       "      <td>900000</td>\n",
       "      <td>Chevrolet</td>\n",
       "      <td>Prizm</td>\n",
       "      <td>Auto</td>\n",
       "      <td>Black</td>\n",
       "      <td>16000</td>\n",
       "      <td>06457-3834</td>\n",
       "      <td>Hardtop</td>\n",
       "      <td>Middletown</td>\n",
       "    </tr>\n",
       "    <tr>\n",
       "      <th>23903</th>\n",
       "      <td>12/31/2023</td>\n",
       "      <td>Emma</td>\n",
       "      <td>Male</td>\n",
       "      <td>705000</td>\n",
       "      <td>BMW</td>\n",
       "      <td>328i</td>\n",
       "      <td>Manual</td>\n",
       "      <td>Red</td>\n",
       "      <td>21000</td>\n",
       "      <td>99301-3882</td>\n",
       "      <td>Sedan</td>\n",
       "      <td>Scottsdale</td>\n",
       "    </tr>\n",
       "    <tr>\n",
       "      <th>23904</th>\n",
       "      <td>12/31/2023</td>\n",
       "      <td>Victoire</td>\n",
       "      <td>Male</td>\n",
       "      <td>13500</td>\n",
       "      <td>Chevrolet</td>\n",
       "      <td>Metro</td>\n",
       "      <td>Auto</td>\n",
       "      <td>Black</td>\n",
       "      <td>31000</td>\n",
       "      <td>53546-9427</td>\n",
       "      <td>Passenger</td>\n",
       "      <td>Austin</td>\n",
       "    </tr>\n",
       "    <tr>\n",
       "      <th>23905</th>\n",
       "      <td>12/31/2023</td>\n",
       "      <td>Donovan</td>\n",
       "      <td>Male</td>\n",
       "      <td>1225000</td>\n",
       "      <td>Lexus</td>\n",
       "      <td>ES300</td>\n",
       "      <td>Auto</td>\n",
       "      <td>Pale White</td>\n",
       "      <td>27500</td>\n",
       "      <td>38701-8047</td>\n",
       "      <td>Hardtop</td>\n",
       "      <td>Middletown</td>\n",
       "    </tr>\n",
       "  </tbody>\n",
       "</table>\n",
       "<p>23905 rows × 12 columns</p>\n",
       "</div>"
      ],
      "text/plain": [
       "             Date Customer Name  Gender  Annual Income    Company       Model  \\\n",
       "0        1/2/2022     Geraldine    Male          13500       Ford  Expedition   \n",
       "1        1/2/2022           Gia    Male        1480000      Dodge     Durango   \n",
       "2        1/2/2022        Gianna    Male        1035000   Cadillac    Eldorado   \n",
       "3        1/2/2022       Giselle    Male          13500     Toyota      Celica   \n",
       "4        1/2/2022         Grace    Male        1465000      Acura          TL   \n",
       "...           ...           ...     ...            ...        ...         ...   \n",
       "23901  12/31/2023        Martin    Male          13500   Plymouth     Voyager   \n",
       "23902  12/31/2023         Jimmy  Female         900000  Chevrolet       Prizm   \n",
       "23903  12/31/2023          Emma    Male         705000        BMW        328i   \n",
       "23904  12/31/2023      Victoire    Male          13500  Chevrolet       Metro   \n",
       "23905  12/31/2023       Donovan    Male        1225000      Lexus       ES300   \n",
       "\n",
       "      Transmission       Color  Price ($)  Dealer_No  Body Style Dealer_Region  \n",
       "0             Auto       Black      26000  06457-3834        SUV    Middletown  \n",
       "1             Auto       Black      19000  60504-7114        SUV        Aurora  \n",
       "2           Manual         Red      31500  38701-8047  Passenger    Greenville  \n",
       "3           Manual  Pale White      14000  99301-3882        SUV         Pasco  \n",
       "4             Auto         Red      24500  53546-9427  Hatchback    Janesville  \n",
       "...            ...         ...        ...         ...        ...           ...  \n",
       "23901       Manual         Red      12000  60504-7114  Passenger         Pasco  \n",
       "23902         Auto       Black      16000  06457-3834    Hardtop    Middletown  \n",
       "23903       Manual         Red      21000  99301-3882      Sedan    Scottsdale  \n",
       "23904         Auto       Black      31000  53546-9427  Passenger        Austin  \n",
       "23905         Auto  Pale White      27500  38701-8047    Hardtop    Middletown  \n",
       "\n",
       "[23905 rows x 12 columns]"
      ]
     },
     "execution_count": 33,
     "metadata": {},
     "output_type": "execute_result"
    }
   ],
   "source": [
    "data"
   ]
  },
  {
   "cell_type": "code",
   "execution_count": null,
   "metadata": {},
   "outputs": [],
   "source": [
    "#create column year\n",
    "data['Year'] = pd.DatetimeIndex(data['Date']).year"
   ]
  },
  {
   "cell_type": "code",
   "execution_count": 26,
   "metadata": {},
   "outputs": [
    {
     "data": {
      "text/plain": [
       "Date             0\n",
       "Customer Name    1\n",
       "Gender           0\n",
       "Annual Income    0\n",
       "Company          0\n",
       "Model            0\n",
       "Transmission     0\n",
       "Color            0\n",
       "Price ($)        0\n",
       "Dealer_No        0\n",
       "Body Style       0\n",
       "Dealer_Region    0\n",
       "dtype: int64"
      ]
     },
     "execution_count": 26,
     "metadata": {},
     "output_type": "execute_result"
    }
   ],
   "source": [
    "# Check for null values\n",
    "data.isnull().sum()"
   ]
  },
  {
   "cell_type": "code",
   "execution_count": 27,
   "metadata": {},
   "outputs": [],
   "source": [
    "#Drop rows with null values\n",
    "data.dropna(inplace=True)"
   ]
  },
  {
   "cell_type": "code",
   "execution_count": 28,
   "metadata": {},
   "outputs": [
    {
     "data": {
      "text/plain": [
       "Date             0\n",
       "Customer Name    0\n",
       "Gender           0\n",
       "Annual Income    0\n",
       "Company          0\n",
       "Model            0\n",
       "Transmission     0\n",
       "Color            0\n",
       "Price ($)        0\n",
       "Dealer_No        0\n",
       "Body Style       0\n",
       "Dealer_Region    0\n",
       "dtype: int64"
      ]
     },
     "execution_count": 28,
     "metadata": {},
     "output_type": "execute_result"
    }
   ],
   "source": [
    "data.isnull().sum()"
   ]
  },
  {
   "cell_type": "code",
   "execution_count": 29,
   "metadata": {},
   "outputs": [
    {
     "data": {
      "text/plain": [
       "np.int64(0)"
      ]
     },
     "execution_count": 29,
     "metadata": {},
     "output_type": "execute_result"
    }
   ],
   "source": [
    "#check for duplicates\n",
    "data.duplicated().sum()"
   ]
  },
  {
   "cell_type": "code",
   "execution_count": 37,
   "metadata": {},
   "outputs": [],
   "source": [
    "#convert data to datetime\n",
    "data['Date'] = pd.to_datetime(data['Date'])"
   ]
  },
  {
   "cell_type": "code",
   "execution_count": 39,
   "metadata": {},
   "outputs": [
    {
     "data": {
      "text/plain": [
       "Index(['Date', 'Customer Name', 'Gender', 'Annual Income', 'Company', 'Model',\n",
       "       'Transmission', 'Color', 'Price ($)', 'Dealer_No ', 'Body Style',\n",
       "       'Dealer_Region'],\n",
       "      dtype='object')"
      ]
     },
     "execution_count": 39,
     "metadata": {},
     "output_type": "execute_result"
    }
   ],
   "source": [
    "data.columns"
   ]
  },
  {
   "cell_type": "code",
   "execution_count": 43,
   "metadata": {},
   "outputs": [
    {
     "data": {
      "text/plain": [
       "Company\n",
       "Chevrolet     1819\n",
       "Dodge         1670\n",
       "Ford          1614\n",
       "Volkswagen    1333\n",
       "Mercedes-B    1285\n",
       "Mitsubishi    1277\n",
       "Chrysler      1120\n",
       "Oldsmobile    1111\n",
       "Toyota        1110\n",
       "Nissan         886\n",
       "Mercury        874\n",
       "Lexus          802\n",
       "Pontiac        796\n",
       "BMW            790\n",
       "Volvo          789\n",
       "Honda          708\n",
       "Acura          689\n",
       "Cadillac       652\n",
       "Plymouth       617\n",
       "Saturn         586\n",
       "Lincoln        492\n",
       "Audi           468\n",
       "Buick          439\n",
       "Subaru         405\n",
       "Jeep           363\n",
       "Porsche        361\n",
       "Hyundai        264\n",
       "Saab           210\n",
       "Infiniti       195\n",
       "Jaguar         180\n",
       "Name: count, dtype: int64"
      ]
     },
     "execution_count": 43,
     "metadata": {},
     "output_type": "execute_result"
    }
   ],
   "source": [
    "#count value for each column\n",
    "data['Company'].value_counts()"
   ]
  },
  {
   "cell_type": "code",
   "execution_count": 45,
   "metadata": {},
   "outputs": [
    {
     "data": {
      "text/plain": [
       "Model\n",
       "Diamante         418\n",
       "Prizm            411\n",
       "Silhouette       411\n",
       "Passat           391\n",
       "Ram Pickup       382\n",
       "                ... \n",
       "Mirage            19\n",
       "Alero             18\n",
       "RX300             15\n",
       "Avalon            15\n",
       "Sebring Conv.     10\n",
       "Name: count, Length: 154, dtype: int64"
      ]
     },
     "execution_count": 45,
     "metadata": {},
     "output_type": "execute_result"
    }
   ],
   "source": [
    "data['Model'].value_counts()"
   ]
  },
  {
   "cell_type": "code",
   "execution_count": 50,
   "metadata": {},
   "outputs": [
    {
     "data": {
      "text/plain": [
       "array(['Ford', 'Dodge', 'Cadillac', 'Toyota', 'Acura', 'Mitsubishi',\n",
       "       'Chevrolet', 'Nissan', 'Mercury', 'BMW', 'Chrysler', 'Subaru',\n",
       "       'Hyundai', 'Honda', 'Infiniti', 'Audi', 'Porsche', 'Volkswagen',\n",
       "       'Buick', 'Saturn', 'Mercedes-B', 'Jaguar', 'Volvo', 'Pontiac',\n",
       "       'Lincoln', 'Oldsmobile', 'Lexus', 'Plymouth', 'Saab', 'Jeep'],\n",
       "      dtype=object)"
      ]
     },
     "execution_count": 50,
     "metadata": {},
     "output_type": "execute_result"
    }
   ],
   "source": [
    "#show unique values\n",
    "data['Company'].unique()"
   ]
  },
  {
   "cell_type": "code",
   "execution_count": 51,
   "metadata": {},
   "outputs": [
    {
     "data": {
      "text/plain": [
       "array(['Expedition', 'Durango', 'Eldorado', 'Celica', 'TL', 'Diamante',\n",
       "       'Corolla', 'Galant', 'Malibu', 'Escort', 'RL', 'Pathfinder',\n",
       "       'Grand Marquis', '323i', 'Sebring Coupe', 'Forester', 'Accent',\n",
       "       'Land Cruiser', 'Accord', '4Runner', 'I30', 'A4', 'Carrera Cabrio',\n",
       "       'Jetta', 'Viper', 'Regal', 'LHS', 'LW', '3000GT', 'SLK230',\n",
       "       'Civic', 'S-Type', 'S40', 'Mountaineer', 'Park Avenue',\n",
       "       'Montero Sport', 'Sentra', 'S80', 'Lumina', 'Bonneville',\n",
       "       'C-Class', 'Altima', 'DeVille', 'Stratus', 'Cougar', 'SW', 'C70',\n",
       "       'SLK', 'Tacoma', 'M-Class', 'A6', 'Intrepid', 'Sienna', 'Eclipse',\n",
       "       'Contour', 'Town car', 'Focus', 'Mustang', 'Cutlass', 'Corvette',\n",
       "       'Impala', 'Cabrio', 'Dakota', '300M', '328i', 'Bravada', 'Maxima',\n",
       "       'Ram Pickup', 'Concorde', 'V70', 'Quest', 'ES300', 'SL-Class',\n",
       "       'Explorer', 'Prizm', 'Camaro', 'Outback', 'Taurus', 'Cavalier',\n",
       "       'GS400', 'Monte Carlo', 'Sonata', 'Sable', 'Metro', 'Voyager',\n",
       "       'Cirrus', 'Avenger', 'Odyssey', 'Intrigue', 'Silhouette', '5-Sep',\n",
       "       '528i', 'LS400', 'Aurora', 'Breeze', 'Beetle', 'Elantra',\n",
       "       'Continental', 'RAV4', 'Villager', 'S70', 'LS', 'Ram Van',\n",
       "       'S-Class', 'E-Class', 'Grand Am', 'SC', 'Passat', 'Xterra',\n",
       "       'Frontier', 'Crown Victoria', 'Camry', 'Navigator', 'CL500',\n",
       "       'Escalade', 'Golf', 'Ranger', 'Prowler', 'Windstar', 'GTI',\n",
       "       'Passport', 'Boxter', 'LX470', 'CR-V', 'Sunfire', 'Caravan',\n",
       "       'Ram Wagon', 'Neon', 'Wrangler', 'Integra', 'Grand Prix',\n",
       "       'Grand Cherokee', 'F-Series', 'A8', 'Mystique', '3-Sep',\n",
       "       'Cherokee', 'Carrera Coupe', 'Catera', 'Seville', 'CLK Coupe',\n",
       "       'LeSabre', 'Sebring Conv.', 'GS300', 'Firebird', 'V40', 'Montero',\n",
       "       'Town & Country', 'SL', 'Alero', 'Mirage', 'Century', 'RX300',\n",
       "       'Avalon'], dtype=object)"
      ]
     },
     "execution_count": 51,
     "metadata": {},
     "output_type": "execute_result"
    }
   ],
   "source": [
    "data['Model'].unique()"
   ]
  },
  {
   "cell_type": "markdown",
   "metadata": {},
   "source": [
    "#### Data Aggregation "
   ]
  },
  {
   "cell_type": "code",
   "execution_count": 58,
   "metadata": {},
   "outputs": [
    {
     "data": {
      "text/plain": [
       "Company\n",
       "Acura                                         [TL, RL, Integra]\n",
       "Audi                                               [A4, A6, A8]\n",
       "BMW                                          [323i, 328i, 528i]\n",
       "Buick                    [Regal, Park Avenue, LeSabre, Century]\n",
       "Cadillac         [Eldorado, DeVille, Escalade, Catera, Seville]\n",
       "Chevrolet     [Malibu, Lumina, Corvette, Impala, Prizm, Cama...\n",
       "Chrysler      [Sebring Coupe, LHS, 300M, Concorde, Cirrus, S...\n",
       "Dodge         [Durango, Viper, Stratus, Intrepid, Dakota, Ra...\n",
       "Ford          [Expedition, Escort, Contour, Focus, Mustang, ...\n",
       "Honda                  [Accord, Civic, Odyssey, Passport, CR-V]\n",
       "Hyundai                               [Accent, Sonata, Elantra]\n",
       "Infiniti                                                  [I30]\n",
       "Jaguar                                                 [S-Type]\n",
       "Jeep                       [Wrangler, Grand Cherokee, Cherokee]\n",
       "Lexus                [ES300, GS400, LS400, LX470, GS300, RX300]\n",
       "Lincoln                      [Town car, Continental, Navigator]\n",
       "Mercedes-B    [SLK230, C-Class, SLK, M-Class, SL-Class, S-Cl...\n",
       "Mercury       [Grand Marquis, Mountaineer, Cougar, Sable, Vi...\n",
       "Mitsubishi    [Diamante, Galant, 3000GT, Montero Sport, Ecli...\n",
       "Nissan        [Pathfinder, Sentra, Altima, Maxima, Quest, Xt...\n",
       "Oldsmobile    [Cutlass, Bravada, Intrigue, Silhouette, Auror...\n",
       "Plymouth                       [Voyager, Breeze, Prowler, Neon]\n",
       "Pontiac       [Bonneville, Grand Am, Sunfire, Grand Prix, Fi...\n",
       "Porsche                 [Carrera Cabrio, Boxter, Carrera Coupe]\n",
       "Saab                                             [5-Sep, 3-Sep]\n",
       "Saturn                                     [LW, SW, LS, SC, SL]\n",
       "Subaru                                      [Forester, Outback]\n",
       "Toyota        [Celica, Corolla, Land Cruiser, 4Runner, Tacom...\n",
       "Volkswagen           [Jetta, Cabrio, Beetle, Passat, Golf, GTI]\n",
       "Volvo                            [S40, S80, C70, V70, S70, V40]\n",
       "Name: Model, dtype: object"
      ]
     },
     "execution_count": 58,
     "metadata": {},
     "output_type": "execute_result"
    }
   ],
   "source": [
    "# Groubing by company and model\n",
    "\n",
    "data.groupby('Company')['Model'].unique()"
   ]
  },
  {
   "cell_type": "code",
   "execution_count": 65,
   "metadata": {},
   "outputs": [
    {
     "data": {
      "text/plain": [
       "Model\n",
       "3-Sep                 [Auto]\n",
       "3000GT        [Manual, Auto]\n",
       "300M                  [Auto]\n",
       "323i          [Auto, Manual]\n",
       "328i          [Auto, Manual]\n",
       "4Runner       [Manual, Auto]\n",
       "5-Sep         [Manual, Auto]\n",
       "528i          [Manual, Auto]\n",
       "A4            [Manual, Auto]\n",
       "A6            [Auto, Manual]\n",
       "A8                  [Manual]\n",
       "Accent              [Manual]\n",
       "Accord        [Auto, Manual]\n",
       "Alero               [Manual]\n",
       "Altima                [Auto]\n",
       "Aurora        [Manual, Auto]\n",
       "Avalon                [Auto]\n",
       "Avenger               [Auto]\n",
       "Beetle        [Auto, Manual]\n",
       "Bonneville    [Manual, Auto]\n",
       "Boxter        [Manual, Auto]\n",
       "Bravada       [Auto, Manual]\n",
       "Breeze        [Manual, Auto]\n",
       "C-Class       [Manual, Auto]\n",
       "C70           [Manual, Auto]\n",
       "CL500               [Manual]\n",
       "CLK Coupe             [Auto]\n",
       "CR-V                  [Auto]\n",
       "Cabrio        [Manual, Auto]\n",
       "Camaro                [Auto]\n",
       "Name: Transmission, dtype: object"
      ]
     },
     "execution_count": 65,
     "metadata": {},
     "output_type": "execute_result"
    }
   ],
   "source": [
    "#data groub by transmission and Model\n",
    "pd.set_option('display.max_rows',30)\n",
    "data.groupby('Model')['Transmission'].unique().head(30)\n",
    "#display max rows   "
   ]
  },
  {
   "cell_type": "markdown",
   "metadata": {},
   "source": [
    "Statistical Operations\n"
   ]
  },
  {
   "cell_type": "code",
   "execution_count": 66,
   "metadata": {},
   "outputs": [
    {
     "data": {
      "text/html": [
       "<div>\n",
       "<style scoped>\n",
       "    .dataframe tbody tr th:only-of-type {\n",
       "        vertical-align: middle;\n",
       "    }\n",
       "\n",
       "    .dataframe tbody tr th {\n",
       "        vertical-align: top;\n",
       "    }\n",
       "\n",
       "    .dataframe thead th {\n",
       "        text-align: right;\n",
       "    }\n",
       "</style>\n",
       "<table border=\"1\" class=\"dataframe\">\n",
       "  <thead>\n",
       "    <tr style=\"text-align: right;\">\n",
       "      <th></th>\n",
       "      <th>Date</th>\n",
       "      <th>Annual Income</th>\n",
       "      <th>Price ($)</th>\n",
       "    </tr>\n",
       "  </thead>\n",
       "  <tbody>\n",
       "    <tr>\n",
       "      <th>count</th>\n",
       "      <td>23905</td>\n",
       "      <td>2.390500e+04</td>\n",
       "      <td>23905.000000</td>\n",
       "    </tr>\n",
       "    <tr>\n",
       "      <th>mean</th>\n",
       "      <td>2023-03-01 14:35:12.261033216</td>\n",
       "      <td>8.308466e+05</td>\n",
       "      <td>28089.540473</td>\n",
       "    </tr>\n",
       "    <tr>\n",
       "      <th>min</th>\n",
       "      <td>2022-01-02 00:00:00</td>\n",
       "      <td>1.008000e+04</td>\n",
       "      <td>1200.000000</td>\n",
       "    </tr>\n",
       "    <tr>\n",
       "      <th>25%</th>\n",
       "      <td>2022-09-20 00:00:00</td>\n",
       "      <td>3.860000e+05</td>\n",
       "      <td>18001.000000</td>\n",
       "    </tr>\n",
       "    <tr>\n",
       "      <th>50%</th>\n",
       "      <td>2023-03-13 00:00:00</td>\n",
       "      <td>7.350000e+05</td>\n",
       "      <td>23000.000000</td>\n",
       "    </tr>\n",
       "    <tr>\n",
       "      <th>75%</th>\n",
       "      <td>2023-09-08 00:00:00</td>\n",
       "      <td>1.176000e+06</td>\n",
       "      <td>34000.000000</td>\n",
       "    </tr>\n",
       "    <tr>\n",
       "      <th>max</th>\n",
       "      <td>2023-12-31 00:00:00</td>\n",
       "      <td>1.120000e+07</td>\n",
       "      <td>85800.000000</td>\n",
       "    </tr>\n",
       "    <tr>\n",
       "      <th>std</th>\n",
       "      <td>NaN</td>\n",
       "      <td>7.200208e+05</td>\n",
       "      <td>14788.592495</td>\n",
       "    </tr>\n",
       "  </tbody>\n",
       "</table>\n",
       "</div>"
      ],
      "text/plain": [
       "                                Date  Annual Income     Price ($)\n",
       "count                          23905   2.390500e+04  23905.000000\n",
       "mean   2023-03-01 14:35:12.261033216   8.308466e+05  28089.540473\n",
       "min              2022-01-02 00:00:00   1.008000e+04   1200.000000\n",
       "25%              2022-09-20 00:00:00   3.860000e+05  18001.000000\n",
       "50%              2023-03-13 00:00:00   7.350000e+05  23000.000000\n",
       "75%              2023-09-08 00:00:00   1.176000e+06  34000.000000\n",
       "max              2023-12-31 00:00:00   1.120000e+07  85800.000000\n",
       "std                              NaN   7.200208e+05  14788.592495"
      ]
     },
     "execution_count": 66,
     "metadata": {},
     "output_type": "execute_result"
    }
   ],
   "source": [
    "data.describe()"
   ]
  },
  {
   "cell_type": "code",
   "execution_count": 71,
   "metadata": {},
   "outputs": [
    {
     "data": {
      "text/html": [
       "<div>\n",
       "<style scoped>\n",
       "    .dataframe tbody tr th:only-of-type {\n",
       "        vertical-align: middle;\n",
       "    }\n",
       "\n",
       "    .dataframe tbody tr th {\n",
       "        vertical-align: top;\n",
       "    }\n",
       "\n",
       "    .dataframe thead th {\n",
       "        text-align: right;\n",
       "    }\n",
       "</style>\n",
       "<table border=\"1\" class=\"dataframe\">\n",
       "  <thead>\n",
       "    <tr style=\"text-align: right;\">\n",
       "      <th></th>\n",
       "      <th>Customer Name</th>\n",
       "      <th>Gender</th>\n",
       "      <th>Company</th>\n",
       "      <th>Model</th>\n",
       "      <th>Transmission</th>\n",
       "      <th>Color</th>\n",
       "      <th>Dealer_No</th>\n",
       "      <th>Body Style</th>\n",
       "      <th>Dealer_Region</th>\n",
       "    </tr>\n",
       "  </thead>\n",
       "  <tbody>\n",
       "    <tr>\n",
       "      <th>count</th>\n",
       "      <td>23905</td>\n",
       "      <td>23905</td>\n",
       "      <td>23905</td>\n",
       "      <td>23905</td>\n",
       "      <td>23905</td>\n",
       "      <td>23905</td>\n",
       "      <td>23905</td>\n",
       "      <td>23905</td>\n",
       "      <td>23905</td>\n",
       "    </tr>\n",
       "    <tr>\n",
       "      <th>unique</th>\n",
       "      <td>3021</td>\n",
       "      <td>2</td>\n",
       "      <td>30</td>\n",
       "      <td>154</td>\n",
       "      <td>2</td>\n",
       "      <td>3</td>\n",
       "      <td>7</td>\n",
       "      <td>5</td>\n",
       "      <td>7</td>\n",
       "    </tr>\n",
       "    <tr>\n",
       "      <th>top</th>\n",
       "      <td>Thomas</td>\n",
       "      <td>Male</td>\n",
       "      <td>Chevrolet</td>\n",
       "      <td>Diamante</td>\n",
       "      <td>Auto</td>\n",
       "      <td>Pale White</td>\n",
       "      <td>85257-3102</td>\n",
       "      <td>SUV</td>\n",
       "      <td>Austin</td>\n",
       "    </tr>\n",
       "    <tr>\n",
       "      <th>freq</th>\n",
       "      <td>92</td>\n",
       "      <td>18797</td>\n",
       "      <td>1819</td>\n",
       "      <td>418</td>\n",
       "      <td>12570</td>\n",
       "      <td>11255</td>\n",
       "      <td>3814</td>\n",
       "      <td>6374</td>\n",
       "      <td>4135</td>\n",
       "    </tr>\n",
       "  </tbody>\n",
       "</table>\n",
       "</div>"
      ],
      "text/plain": [
       "       Customer Name Gender    Company     Model Transmission       Color  \\\n",
       "count          23905  23905      23905     23905        23905       23905   \n",
       "unique          3021      2         30       154            2           3   \n",
       "top           Thomas   Male  Chevrolet  Diamante         Auto  Pale White   \n",
       "freq              92  18797       1819       418        12570       11255   \n",
       "\n",
       "        Dealer_No  Body Style Dealer_Region  \n",
       "count        23905      23905         23905  \n",
       "unique           7          5             7  \n",
       "top     85257-3102        SUV        Austin  \n",
       "freq          3814       6374          4135  "
      ]
     },
     "execution_count": 71,
     "metadata": {},
     "output_type": "execute_result"
    }
   ],
   "source": [
    "#statistical summary for objects\n",
    "data.describe(include = 'object')"
   ]
  },
  {
   "cell_type": "markdown",
   "metadata": {},
   "source": [
    "###  Business Questions"
   ]
  },
  {
   "cell_type": "code",
   "execution_count": 74,
   "metadata": {},
   "outputs": [
    {
     "data": {
      "text/plain": [
       "Customer Name\n",
       "Emma      2796875\n",
       "Lucas     2637188\n",
       "Thomas    2547478\n",
       "Alexis    2190772\n",
       "Lea       2129534\n",
       "Chloe     2028568\n",
       "Nathan    2013534\n",
       "Paul      1978928\n",
       "Hugo      1929031\n",
       "Louis     1834775\n",
       "Name: Price ($), dtype: int64"
      ]
     },
     "execution_count": 74,
     "metadata": {},
     "output_type": "execute_result"
    }
   ],
   "source": [
    "#   Question 1- top 10 cusmomers by sales\n",
    "data.groupby('Customer Name')['Price ($)'].sum().sort_values(ascending=False).head(10)"
   ]
  },
  {
   "cell_type": "code",
   "execution_count": 75,
   "metadata": {},
   "outputs": [
    {
     "data": {
      "text/plain": [
       "Model\n",
       "LS400            14263424\n",
       "Jetta            12287736\n",
       "Silhouette       12271849\n",
       "Montero Sport    11472231\n",
       "Ram Pickup       10610391\n",
       "Eldorado          9725407\n",
       "528i              9577927\n",
       "Prizm             9386606\n",
       "Diamante          9308151\n",
       "LHS               9097717\n",
       "Name: Price ($), dtype: int64"
      ]
     },
     "execution_count": 75,
     "metadata": {},
     "output_type": "execute_result"
    }
   ],
   "source": [
    "#Question 2-  top 10 Modeles By Sales\n",
    "data.groupby('Model')['Price ($)'].sum().sort_values(ascending=False).head(10)"
   ]
  },
  {
   "cell_type": "code",
   "execution_count": 79,
   "metadata": {},
   "outputs": [
    {
     "data": {
      "text/plain": [
       "array(['SUV', 'Passenger', 'Hatchback', 'Hardtop', 'Sedan'], dtype=object)"
      ]
     },
     "execution_count": 79,
     "metadata": {},
     "output_type": "execute_result"
    }
   ],
   "source": [
    "data['Body Style'].unique()"
   ]
  },
  {
   "cell_type": "code",
   "execution_count": 87,
   "metadata": {},
   "outputs": [
    {
     "data": {
      "text/plain": [
       "Company\n",
       "Acura                         [Hatchback, SUV, Passenger]\n",
       "Audi                 [Hardtop, SUV, Passenger, Hatchback]\n",
       "BMW                               [Hatchback, Sedan, SUV]\n",
       "Buick         [Passenger, Hatchback, Sedan, Hardtop, SUV]\n",
       "Cadillac      [Passenger, SUV, Sedan, Hatchback, Hardtop]\n",
       "Chevrolet     [Hardtop, Passenger, SUV, Hatchback, Sedan]\n",
       "Chrysler      [Sedan, Hatchback, SUV, Hardtop, Passenger]\n",
       "Dodge         [SUV, Hatchback, Sedan, Hardtop, Passenger]\n",
       "Ford          [SUV, Passenger, Sedan, Hardtop, Hatchback]\n",
       "Honda         [Sedan, Hatchback, Passenger, Hardtop, SUV]\n",
       "Hyundai                           [Hatchback, SUV, Sedan]\n",
       "Infiniti                        [Hardtop, SUV, Hatchback]\n",
       "Jaguar                                        [Passenger]\n",
       "Jeep                              [Hatchback, SUV, Sedan]\n",
       "Lexus         [SUV, Hatchback, Sedan, Passenger, Hardtop]\n",
       "Lincoln                     [Hatchback, Passenger, Sedan]\n",
       "Mercedes-B    [Hatchback, Passenger, Hardtop, SUV, Sedan]\n",
       "Mercury       [SUV, Hatchback, Sedan, Passenger, Hardtop]\n",
       "Mitsubishi    [Hatchback, Passenger, Sedan, SUV, Hardtop]\n",
       "Nissan        [Hardtop, Passenger, Hatchback, Sedan, SUV]\n",
       "Oldsmobile    [Sedan, Hatchback, SUV, Passenger, Hardtop]\n",
       "Plymouth             [Passenger, SUV, Hatchback, Hardtop]\n",
       "Pontiac       [Hatchback, SUV, Sedan, Passenger, Hardtop]\n",
       "Porsche              [Passenger, SUV, Hatchback, Hardtop]\n",
       "Saab                                   [Hatchback, Sedan]\n",
       "Saturn        [Hatchback, Passenger, Sedan, Hardtop, SUV]\n",
       "Subaru                          [Hatchback, SUV, Hardtop]\n",
       "Toyota        [SUV, Passenger, Sedan, Hardtop, Hatchback]\n",
       "Volkswagen    [Passenger, Sedan, SUV, Hatchback, Hardtop]\n",
       "Volvo         [Sedan, Hatchback, Passenger, Hardtop, SUV]\n",
       "Name: Body Style, dtype: object"
      ]
     },
     "execution_count": 87,
     "metadata": {},
     "output_type": "execute_result"
    }
   ],
   "source": [
    "#Question 3- Company by Body Style\n",
    "data.groupby('Company')['Body Style'].unique()"
   ]
  },
  {
   "cell_type": "code",
   "execution_count": 93,
   "metadata": {},
   "outputs": [
    {
     "data": {
      "text/plain": [
       "Company     Year\n",
       "Acura       2022     7712756\n",
       "            2023     9345893\n",
       "Audi        2022     4933136\n",
       "            2023     5761502\n",
       "BMW         2022     8393812\n",
       "                      ...   \n",
       "Toyota      2023    17502675\n",
       "Volkswagen  2022    15848524\n",
       "            2023    18234357\n",
       "Volvo       2022     9140961\n",
       "            2023    12784239\n",
       "Name: Price ($), Length: 60, dtype: int64"
      ]
     },
     "execution_count": 93,
     "metadata": {},
     "output_type": "execute_result"
    }
   ],
   "source": [
    "    # Question 4- Total Sales By Year for each Company  \n",
    "data.groupby(['Company' ,'Year'])['Price ($)'].sum()\n"
   ]
  },
  {
   "cell_type": "code",
   "execution_count": 99,
   "metadata": {},
   "outputs": [
    {
     "data": {
      "text/plain": [
       "Model       Gender\n",
       "Silhouette  Male      341\n",
       "Diamante    Male      335\n",
       "Prizm       Male      313\n",
       "Ram Pickup  Male      313\n",
       "Passat      Male      312\n",
       "                     ... \n",
       "V40         Female      3\n",
       "Mirage      Female      2\n",
       "Avalon      Female      2\n",
       "Alero       Female      2\n",
       "RX300       Female      1\n",
       "Name: Gender, Length: 308, dtype: int64"
      ]
     },
     "execution_count": 99,
     "metadata": {},
     "output_type": "execute_result"
    }
   ],
   "source": [
    "#Question 5 - Count total Genders for each Model\n",
    "data.groupby(['Model','Gender'])['Gender'].count().sort_values(ascending=False)"
   ]
  },
  {
   "cell_type": "code",
   "execution_count": 103,
   "metadata": {},
   "outputs": [
    {
     "data": {
      "text/plain": [
       "Gender\n",
       "Female    144440271\n",
       "Male      527040194\n",
       "Name: Price ($), dtype: int64"
      ]
     },
     "execution_count": 103,
     "metadata": {},
     "output_type": "execute_result"
    }
   ],
   "source": [
    "#Question 6 -Total Sales For each Gender \n",
    "data.groupby('Gender')['Price ($)'].sum()"
   ]
  },
  {
   "cell_type": "code",
   "execution_count": 115,
   "metadata": {},
   "outputs": [
    {
     "data": {
      "text/plain": [
       "Customer Name\n",
       "Assia      11200000\n",
       "Sofia       8000000\n",
       "Makayla     7650000\n",
       "Peyton      6800000\n",
       "Josh        6600000\n",
       "Eileen      6500000\n",
       "Kayden      6460000\n",
       "Avery       6400000\n",
       "Clara       6400000\n",
       "Yaakov      6240000\n",
       "Name: Annual Income, dtype: int64"
      ]
     },
     "execution_count": 115,
     "metadata": {},
     "output_type": "execute_result"
    }
   ],
   "source": [
    "#Question 7- Top Annual Income for each Customers\n",
    "data.groupby('Customer Name')['Annual Income'].max().sort_values(ascending=False).head(10)"
   ]
  },
  {
   "cell_type": "code",
   "execution_count": 116,
   "metadata": {},
   "outputs": [
    {
     "data": {
      "text/plain": [
       "Dealer_Region\n",
       "Aurora         88642382\n",
       "Austin        117192531\n",
       "Greenville     88149602\n",
       "Janesville    106351234\n",
       "Middletown     87134628\n",
       "Pasco          88040714\n",
       "Scottsdale     95969374\n",
       "Name: Price ($), dtype: int64"
      ]
     },
     "execution_count": 116,
     "metadata": {},
     "output_type": "execute_result"
    }
   ],
   "source": [
    "#Question 8- Sales For each Dealer_Region\n",
    "data.groupby('Dealer_Region')['Price ($)'].sum()\n"
   ]
  },
  {
   "cell_type": "markdown",
   "metadata": {},
   "source": [
    "### Convert Data To Excel File"
   ]
  },
  {
   "cell_type": "code",
   "execution_count": 102,
   "metadata": {},
   "outputs": [],
   "source": [
    "#export data \n",
    "data.to_excel(r'E:\\newdata2.xlsx')"
   ]
  },
  {
   "cell_type": "code",
   "execution_count": null,
   "metadata": {},
   "outputs": [],
   "source": []
  }
 ],
 "metadata": {
  "kernelspec": {
   "display_name": "Python 3",
   "language": "python",
   "name": "python3"
  },
  "language_info": {
   "codemirror_mode": {
    "name": "ipython",
    "version": 3
   },
   "file_extension": ".py",
   "mimetype": "text/x-python",
   "name": "python",
   "nbconvert_exporter": "python",
   "pygments_lexer": "ipython3",
   "version": "3.11.1"
  }
 },
 "nbformat": 4,
 "nbformat_minor": 2
}
